{
 "cells": [
  {
   "cell_type": "code",
   "execution_count": 2,
   "id": "d9acaaf8-a45c-44db-b955-f97724d911b3",
   "metadata": {},
   "outputs": [
    {
     "name": "stdout",
     "output_type": "stream",
     "text": [
      "📂 Loading technical + fundamental features...\n",
      "🔁 Merging features on ['ticker', 'date']...\n",
      "✅ Feature merge shape: (2894127, 46)\n",
      "🎯 Loading target columns from df_labeled.csv...\n",
      "➕ Merging targets into dataset...\n",
      "💾 Saving final merged dataset with targets to: C:\\Users\\flass\\OneDrive\\AI Financial Model\\S&P 500 Chatgpt Version\\df_features_merged.csv\n",
      "📊 Final shape: (2894127, 124)\n",
      "✅ Done.\n"
     ]
    }
   ],
   "source": [
    "# === merge_features.py ===\n",
    "\n",
    "import pandas as pd\n",
    "import os\n",
    "\n",
    "# === CONFIG ===\n",
    "BASE_DIR = r\"C:\\Users\\flass\\OneDrive\\AI Financial Model\\S&P 500 Chatgpt Version\"\n",
    "FUNDAMENTAL_PATH = os.path.join(BASE_DIR, \"df_fundamental_features.csv\")\n",
    "TECHNICAL_PATH = os.path.join(BASE_DIR, \"clean_technical_features.csv\")\n",
    "TARGET_PATH = os.path.join(BASE_DIR, \"df_labeled.csv\")\n",
    "OUTPUT_PATH = os.path.join(BASE_DIR, \"df_features_merged.csv\")\n",
    "\n",
    "# === Load Features ===\n",
    "print(\"📂 Loading technical + fundamental features...\")\n",
    "df_fund = pd.read_csv(FUNDAMENTAL_PATH, parse_dates=[\"date\"])\n",
    "df_tech = pd.read_csv(TECHNICAL_PATH, parse_dates=[\"date\"])\n",
    "\n",
    "# Clean keys\n",
    "df_fund[\"ticker\"] = df_fund[\"ticker\"].str.strip().str.upper()\n",
    "df_tech[\"ticker\"] = df_tech[\"ticker\"].str.strip().str.upper()\n",
    "\n",
    "# Merge features\n",
    "print(\"🔁 Merging features on ['ticker', 'date']...\")\n",
    "df = pd.merge(df_fund, df_tech, on=[\"ticker\", \"date\"], how=\"inner\")\n",
    "print(f\"✅ Feature merge shape: {df.shape}\")\n",
    "\n",
    "# === Load Targets ===\n",
    "print(\"🎯 Loading target columns from df_labeled.csv...\")\n",
    "df_targets = pd.read_csv(\n",
    "    TARGET_PATH,\n",
    "    usecols=[\"ticker\", \"date\"] + [col for col in pd.read_csv(TARGET_PATH, nrows=1).columns if col.startswith(\"target_\")]\n",
    ")\n",
    "df_targets[\"date\"] = pd.to_datetime(df_targets[\"date\"], errors=\"coerce\")\n",
    "\n",
    "df_targets[\"ticker\"] = df_targets[\"ticker\"].str.strip().str.upper()\n",
    "\n",
    "# Merge in targets\n",
    "print(\"➕ Merging targets into dataset...\")\n",
    "df = pd.merge(df, df_targets, on=[\"ticker\", \"date\"], how=\"left\")\n",
    "\n",
    "# Final output\n",
    "print(f\"💾 Saving final merged dataset with targets to: {OUTPUT_PATH}\")\n",
    "print(f\"📊 Final shape: {df.shape}\")\n",
    "df.to_csv(OUTPUT_PATH, index=False)\n",
    "print(\"✅ Done.\")\n"
   ]
  },
  {
   "cell_type": "code",
   "execution_count": null,
   "id": "bf3e70c5-74a7-4ca3-b184-0fe357e93a03",
   "metadata": {},
   "outputs": [],
   "source": []
  }
 ],
 "metadata": {
  "kernelspec": {
   "display_name": "Python 3 (ipykernel)",
   "language": "python",
   "name": "python3"
  },
  "language_info": {
   "codemirror_mode": {
    "name": "ipython",
    "version": 3
   },
   "file_extension": ".py",
   "mimetype": "text/x-python",
   "name": "python",
   "nbconvert_exporter": "python",
   "pygments_lexer": "ipython3",
   "version": "3.11.6"
  }
 },
 "nbformat": 4,
 "nbformat_minor": 5
}
