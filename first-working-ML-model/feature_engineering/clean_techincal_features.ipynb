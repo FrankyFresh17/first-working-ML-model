{
 "cells": [
  {
   "cell_type": "code",
   "execution_count": 1,
   "id": "155c7496-baac-4b79-afc0-3eef160cc278",
   "metadata": {},
   "outputs": [
    {
     "name": "stderr",
     "output_type": "stream",
     "text": [
      "C:\\Users\\flass\\AppData\\Local\\Temp\\ipykernel_30136\\3346115922.py:5: DtypeWarning: Columns (8,9,10,131,132,253,254) have mixed types. Specify dtype option on import or set low_memory=False.\n",
      "  df = pd.read_csv(input_path)\n"
     ]
    },
    {
     "name": "stdout",
     "output_type": "stream",
     "text": [
      "✅ Cleaned technical features saved to: C:/Users/flass/OneDrive/AI Financial Model/S&P 500 Chatgpt Version/clean_technical_features.csv\n",
      "🧮 Shape: (3331099, 33)\n"
     ]
    }
   ],
   "source": [
    "import pandas as pd\n",
    "\n",
    "# Load full dataset\n",
    "input_path = \"C:/Users/flass/OneDrive/AI Financial Model/S&P 500 Chatgpt Version/df_technical_features.csv\"\n",
    "df = pd.read_csv(input_path)\n",
    "\n",
    "# Columns to keep\n",
    "keep_columns = [\n",
    "    # Meta\n",
    "    \"ticker\", \"date\", \"sector\", \"industry\",\n",
    "\n",
    "    # Targets\n",
    "    \"target_1m_5\", \"target_3m_10\", \"target_3m_15\", \"target_6m_20\", \"target_6m_25\", \"target_1y_30\",\n",
    "    \"target_3m_10_and_6m_20\", \"target_3m_15_and_6m_25\",\n",
    "\n",
    "    # Technical Features\n",
    "    \"rsi_4\", \"rsi_7\", \"rsi_14\", \"rsi_28\", \"rsi_weekly_7\",\n",
    "    \"price_rel_sma50d\", \"price_rel_sma100d\", \"price_rel_sma200d\",\n",
    "    \"price_rel_sma26w\", \"price_rel_sma52w\", \"price_rel_sma156w\", \"price_rel_sma260w\",\n",
    "    \"returns_1w\", \"returns_1m\",\n",
    "    \"macd\", \"macd_signal\",\n",
    "    \"volume_sma_20d\", \"volume_rel_20d\", \"volume_week\", \"volume_sma_12w\", \"volume_rel_12w\"\n",
    "]\n",
    "\n",
    "# Filter and save\n",
    "df_clean = df[keep_columns].copy()\n",
    "output_path = \"C:/Users/flass/OneDrive/AI Financial Model/S&P 500 Chatgpt Version/clean_technical_features.csv\"\n",
    "df_clean.to_csv(output_path, index=False)\n",
    "\n",
    "print(f\"✅ Cleaned technical features saved to: {output_path}\")\n",
    "print(f\"🧮 Shape: {df_clean.shape}\")\n"
   ]
  },
  {
   "cell_type": "code",
   "execution_count": 2,
   "id": "3a57ecdf-10a3-4003-b7c8-53685941437a",
   "metadata": {},
   "outputs": [
    {
     "name": "stdout",
     "output_type": "stream",
     "text": [
      "✅ Shape: (5, 33)\n",
      "\n",
      "📋 Columns:\n",
      "['ticker', 'date', 'sector', 'industry', 'target_1m_5', 'target_3m_10', 'target_3m_15', 'target_6m_20', 'target_6m_25', 'target_1y_30', 'target_3m_10_and_6m_20', 'target_3m_15_and_6m_25', 'rsi_4', 'rsi_7', 'rsi_14', 'rsi_28', 'rsi_weekly_7', 'price_rel_sma50d', 'price_rel_sma100d', 'price_rel_sma200d', 'price_rel_sma26w', 'price_rel_sma52w', 'price_rel_sma156w', 'price_rel_sma260w', 'returns_1w', 'returns_1m', 'macd', 'macd_signal', 'volume_sma_20d', 'volume_rel_20d', 'volume_week', 'volume_sma_12w', 'volume_rel_12w']\n"
     ]
    }
   ],
   "source": [
    "import pandas as pd\n",
    "\n",
    "# Replace with your full file path if needed\n",
    "file_path = r\"C:\\Users\\flass\\OneDrive\\AI Financial Model\\S&P 500 Chatgpt Version\\clean_technical_features.csv\"\n",
    "\n",
    "# Load a sample of the file\n",
    "df = pd.read_csv(file_path, nrows=5)\n",
    "\n",
    "# Inspect\n",
    "print(f\"✅ Shape: {df.shape}\")\n",
    "print(\"\\n📋 Columns:\")\n",
    "print(df.columns.tolist())\n"
   ]
  },
  {
   "cell_type": "code",
   "execution_count": null,
   "id": "794915c7-9218-485e-a822-f429d9c670c9",
   "metadata": {},
   "outputs": [],
   "source": []
  }
 ],
 "metadata": {
  "kernelspec": {
   "display_name": "Python 3 (ipykernel)",
   "language": "python",
   "name": "python3"
  },
  "language_info": {
   "codemirror_mode": {
    "name": "ipython",
    "version": 3
   },
   "file_extension": ".py",
   "mimetype": "text/x-python",
   "name": "python",
   "nbconvert_exporter": "python",
   "pygments_lexer": "ipython3",
   "version": "3.11.6"
  }
 },
 "nbformat": 4,
 "nbformat_minor": 5
}
